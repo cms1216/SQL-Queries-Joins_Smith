{
 "cells": [
  {
   "cell_type": "markdown",
   "metadata": {},
   "source": [
    "# CSE-10102-01\n",
    "\n",
    "## Elements of Computing II\n",
    "\n",
    "Student Name: **Connor Smith**\n",
    "<br>\n",
    "Net ID: **csmith77**\n",
    "<br>\n",
    "Title: **SQL Queries and Joins**"
   ]
  },
  {
   "cell_type": "markdown",
   "metadata": {},
   "source": [
    "**Q1: Write an SQL query to select the list of player ids and birthplace countries from the Player_Birthplaces table? What data does this query return? Test your query using DB Browser. Include code + comments.**"
   ]
  },
  {
   "cell_type": "code",
   "execution_count": null,
   "metadata": {},
   "outputs": [],
   "source": [
    "# take all entries for \"id_person\" and their corresponding \"country\" from the same line of data\n",
    "SELECT  id_person, Country\n",
    "\n",
    "# take this information from the Player_PoB table\n",
    "FROM Player_PoB;"
   ]
  },
  {
   "cell_type": "markdown",
   "metadata": {},
   "source": [
    "<blockquote> AnswerQ1. In this code, the query that I have written will return the id_person and country field for every line of data in the Player_PoB table.</blockquote>"
   ]
  },
  {
   "cell_type": "markdown",
   "metadata": {},
   "source": [
    "**Q2: Write an SQL query to return the unique list of player birthplace countries from the Player_Birthplaces table. What data does this query return? Test your query using DB Browser. Include code + comments.**"
   ]
  },
  {
   "cell_type": "code",
   "execution_count": 2,
   "metadata": {},
   "outputs": [],
   "source": [
    "# take the first of every entry for \"country\"\n",
    "SELECT DISTINCT Country\n",
    "\n",
    "# take this information from the Player_PoB table\n",
    "FROM Player_PoB;"
   ]
  },
  {
   "cell_type": "markdown",
   "metadata": {},
   "source": [
    "<blockquote> AnswerQ2. In this code, the query that I have written will return every unique entry for the Country field in the Player-PoB table.</blockquote>"
   ]
  },
  {
   "cell_type": "markdown",
   "metadata": {},
   "source": [
    "**Q3: Write an SQL query to return the unique list of team names from the Team_Locations table, sorted in reverse alphabetical order. What data does this query return? Test your query using DB Browser. Include code + comments.**"
   ]
  },
  {
   "cell_type": "code",
   "execution_count": null,
   "metadata": {},
   "outputs": [],
   "source": [
    "# take the first of every entry for \"TeamName\"\n",
    "SELECT DISTINCT TeamName\n",
    "\n",
    "# take this information from the Player_PoB table\n",
    "FROM Team_Locations\n",
    "\n",
    "# order the data in decending order by first letter of \"TeamName\"\n",
    "ORDER BY TeamName DESC;"
   ]
  },
  {
   "cell_type": "markdown",
   "metadata": {},
   "source": [
    "<blockquote> AnswerQ3. In this code, the query that I have written will return every unique \"TeamName\" value from the Team_Locations table in decending order by first letter </blockquote>"
   ]
  },
  {
   "cell_type": "markdown",
   "metadata": {},
   "source": [
    "**Q4: Write an SQL query to return the data from the Player_Birthplaces table, sorted in chronological order by birth year and reverse alphabetical order by country. What data does this query return? Test your query using DB Browser. Include code + comments.**"
   ]
  },
  {
   "cell_type": "code",
   "execution_count": null,
   "metadata": {},
   "outputs": [],
   "source": [
    "# take every piece of data\n",
    "SELECT *\n",
    "\n",
    "# take this information from the Player_PoB table\n",
    "FROM Player_PoB\n",
    "\n",
    "# order the data in ascending order by birth year starting with the Null values and then in decending order by first letter of \"Country\"\n",
    "ORDER BY Dob ASC, Country DESC;"
   ]
  },
  {
   "cell_type": "markdown",
   "metadata": {},
   "source": [
    "<blockquote> AnswerQ4. In this code, the query that I have written will return all the data in the Player-PoB table in ascending order by year of birth and if there are two of the same year of births it orders those in decending order by the first letter of the Country field.</blockquote>"
   ]
  },
  {
   "cell_type": "markdown",
   "metadata": {},
   "source": [
    "**Q5: Write an SQL query to return the data from the Team_Locations table for teams located in states that start with the letter M. What data does this query return? Test your query using DB Browser. Include code + comments.**"
   ]
  },
  {
   "cell_type": "code",
   "execution_count": null,
   "metadata": {},
   "outputs": [],
   "source": [
    "# take every piece of data\n",
    "SELECT *\n",
    "\n",
    "# take this information from the Team_Locations table\n",
    "FROM Team_Locations\n",
    "\n",
    "# take all lines of data where the state name starts with the letter \"M\"\n",
    "WHERE state LIKE 'M%';"
   ]
  },
  {
   "cell_type": "markdown",
   "metadata": {},
   "source": [
    "<blockquote> AnswerQ5. In this code, the query that I have written will return all the data from the Team_Locations table that has the letter M as the first character in the string value in the state field. </blockquote>"
   ]
  },
  {
   "cell_type": "markdown",
   "metadata": {},
   "source": [
    "**Q6: Write a query that gets average birth year for players in Latin America/Caribbean. What data does this query return? Test your query using DB Browser. Include code + comments.**"
   ]
  },
  {
   "cell_type": "code",
   "execution_count": null,
   "metadata": {},
   "outputs": [],
   "source": [
    "# take an average of all the birth years\n",
    "SELECT AVG(DoB)\n",
    "\n",
    "# take this information from the Player-DoB table\n",
    "FROM Player_PoB\n",
    "\n",
    "# only average the birth years of the lines of data with \"Caribbean\" in the Region column\n",
    "WHERE Region = \"Caribbean\";"
   ]
  },
  {
   "cell_type": "markdown",
   "metadata": {},
   "source": [
    "<blockquote> AnswerQ6. In this code, the query that I have written will return the average of the year of births from every entry that has Caribbean in the Region field in the Player_PoB table  </blockquote>"
   ]
  },
  {
   "cell_type": "markdown",
   "metadata": {},
   "source": [
    "**Q7: Write a query that gets average birth year for players born after a specific year. What data does this query return? Test your query using DB Browser. Include code + comments.**"
   ]
  },
  {
   "cell_type": "code",
   "execution_count": null,
   "metadata": {},
   "outputs": [],
   "source": [
    "# take an average of all the birth years\n",
    "SELECT AVG(DoB)\n",
    "\n",
    "# take this information from the Player-DoB table\n",
    "FROM Player_PoB\n",
    "\n",
    "# only average the birth years of the lines of data with birth years after 1990\n",
    "WHERE DoB > 1990;"
   ]
  },
  {
   "cell_type": "markdown",
   "metadata": {},
   "source": [
    "<blockquote> AnswerQ7. In this code, the query that I have written will return the average year of birth for  every entry in the Player_PoB table that has a DoB after 1990 </blockquote>"
   ]
  },
  {
   "cell_type": "markdown",
   "metadata": {},
   "source": [
    "**Q8: Write an SQL query that joins the Transactions and Team_Locations tables and returns all columns. What kind of join is this? What data does this query return?Test your query using DB Browser. Include code + comments.**"
   ]
  },
  {
   "cell_type": "code",
   "execution_count": null,
   "metadata": {},
   "outputs": [],
   "source": [
    "# take every piece of data\n",
    "SELECT *\n",
    "\n",
    "# take this information from the Combined_Transactions table\n",
    "FROM Combined_Transactions t\n",
    "\n",
    "# add on the data from the the Player_PoB table\n",
    "JOIN Player_PoB p\n",
    "\n",
    "# connect the two tables through the id_person field in both\n",
    "ON t.id_person = p.id_person; "
   ]
  },
  {
   "cell_type": "markdown",
   "metadata": {},
   "source": [
    "<blockquote> AnswerQ8. In this code, the query that I have written will return all the data from the Combined_Transactions table and the Player_PoB table aggregated by connecting the id_person field in both and connecting those pieces of data to eachother across the tables. </blockquote>"
   ]
  },
  {
   "cell_type": "markdown",
   "metadata": {},
   "source": [
    "**Q9: Write an SQL query that answers our question about the number of players born in Puerto Rico playing for teams located in Indiana. Test your query using DB Browser. Include code + comments.**"
   ]
  },
  {
   "cell_type": "code",
   "execution_count": null,
   "metadata": {},
   "outputs": [],
   "source": [
    "# count all the unique id_person entries\n",
    "SELECT DISTINCT COUNT(id_person)\n",
    "\n",
    "# from the Player_PoB table\n",
    "FROM Player_PoB p\n",
    "\n",
    "# joined with the Combined_Transations table\n",
    "INNER JOIN Combined_Transactions c\n",
    "\n",
    "# by the id_person field in both\n",
    "ON p.id_person = c.id_person\n",
    "\n",
    "# and joined by the Team_Locations table\n",
    "INNER JOIN Team_Locations t\n",
    "\n",
    "# joined through the team_id in Combined_Transactions and Team_Locations\n",
    "ON c.team_id = t.team_id\n",
    "\n",
    "# that have the \"PR\" in the Country field and \"IN\" in the State field\n",
    "WHERE Country = \"PR\", State = \"IN\";"
   ]
  },
  {
   "cell_type": "markdown",
   "metadata": {},
   "source": [
    "<blockquote> AnswerQ9. In this code, the query that I have written will return all unique id_person values that have a PR in their corresponding country field and and IN in their corresponding state field </blockquote>"
   ]
  },
  {
   "cell_type": "markdown",
   "metadata": {},
   "source": [
    "**Q10: How would you describe the affordances of relational databases to someone who hasn't been through these labs?**"
   ]
  },
  {
   "cell_type": "markdown",
   "metadata": {},
   "source": [
    "<blockquote> AnswerQ10. The affordance of relational databases is that the user is able to enter in massive  and sometimes unreadable sets of data into a system and as long as they know the table and field names can essentially any information that they need in a quick and easy way </blockquote>"
   ]
  },
  {
   "cell_type": "markdown",
   "metadata": {},
   "source": [
    "**Q11: What questions or thoughts do you have about building and interacting with relational database?**"
   ]
  },
  {
   "cell_type": "markdown",
   "metadata": {},
   "source": [
    "<blockquote> AnswerQ11. I really enjoy working with relational databases but they can get difficult to understand if they are not normalized, will we learn normalization in our labs?</blockquote>"
   ]
  },
  {
   "cell_type": "markdown",
   "metadata": {},
   "source": [
    "**Q12: Select one of the following SQL statements: AND/OR, ALTER TABLE, BETWEEN, CREATE, DELETE, DROP, EXISTS, GROUP BY, HAVING, IN, INSERT, JOIN, ORDER BY, SELECT, WHERE. Write a brief explanation for what the statement will do. Include an example of how you would use the statement in an SQL query.**"
   ]
  },
  {
   "cell_type": "code",
   "execution_count": null,
   "metadata": {},
   "outputs": [],
   "source": [
    "SELECT *\n",
    "FROM Player_PoB\n",
    "WHERE  DoB = \"1985\" AND/OR Country = \"DO\";"
   ]
  },
  {
   "cell_type": "markdown",
   "metadata": {},
   "source": [
    "<blockquote> AnswerQ12. The AND/OR statement as demonstrated above is a SQL statement prodomenantly used with the WHERE or HAVING functions to make sure that the extrapolated data the query is asking for contains one or both of the required field values so that more  data can be collected in the output.  </blockquote>"
   ]
  }
 ],
 "metadata": {
  "kernelspec": {
   "display_name": "Python 3",
   "language": "python",
   "name": "python3"
  },
  "language_info": {
   "codemirror_mode": {
    "name": "ipython",
    "version": 3
   },
   "file_extension": ".py",
   "mimetype": "text/x-python",
   "name": "python",
   "nbconvert_exporter": "python",
   "pygments_lexer": "ipython3",
   "version": "3.8.5"
  },
  "widgets": {
   "application/vnd.jupyter.widget-state+json": {
    "state": {},
    "version_major": 2,
    "version_minor": 0
   }
  }
 },
 "nbformat": 4,
 "nbformat_minor": 5
}
